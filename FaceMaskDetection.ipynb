{
  "nbformat": 4,
  "nbformat_minor": 0,
  "metadata": {
    "colab": {
      "provenance": [],
      "authorship_tag": "ABX9TyP8IJRXf7Hv6XJe/v2W1LJp",
      "include_colab_link": true
    },
    "kernelspec": {
      "name": "python3",
      "display_name": "Python 3"
    },
    "language_info": {
      "name": "python"
    }
  },
  "cells": [
    {
      "cell_type": "markdown",
      "metadata": {
        "id": "view-in-github",
        "colab_type": "text"
      },
      "source": [
        "<a href=\"https://colab.research.google.com/github/tkbhms84/FaceMask/blob/main/FaceMaskDetection.ipynb\" target=\"_parent\"><img src=\"https://colab.research.google.com/assets/colab-badge.svg\" alt=\"Open In Colab\"/></a>"
      ]
    },
    {
      "cell_type": "code",
      "execution_count": null,
      "metadata": {
        "id": "nnQVd60438RN"
      },
      "outputs": [],
      "source": [
        "import os"
      ]
    },
    {
      "cell_type": "code",
      "source": [
        "from keras.preprocessing import image\n",
        "import matplotlib.pyplot as plt"
      ],
      "metadata": {
        "id": "PJMi6cCJ4NOY"
      },
      "execution_count": null,
      "outputs": []
    },
    {
      "cell_type": "code",
      "source": [
        "import cv2"
      ],
      "metadata": {
        "id": "0LkLZD564PFL"
      },
      "execution_count": null,
      "outputs": []
    },
    {
      "cell_type": "code",
      "source": [
        "categories = ['with_mask', 'without_mask']"
      ],
      "metadata": {
        "id": "vLpqgXHU4QNt"
      },
      "execution_count": null,
      "outputs": []
    },
    {
      "cell_type": "code",
      "source": [
        "haar = cv2.CascadeClassifier('haarcascade_frontalface_default.xml')"
      ],
      "metadata": {
        "id": "uxeHLR3k4RdX"
      },
      "execution_count": null,
      "outputs": []
    },
    {
      "cell_type": "code",
      "source": [
        "def detect_face(img):\n",
        "    coords = haar.detectMultiScale(img)\n",
        "    return coords"
      ],
      "metadata": {
        "id": "C9Abn6c34Vn8"
      },
      "execution_count": null,
      "outputs": []
    },
    {
      "cell_type": "code",
      "source": [
        "def augment_image(img):\n",
        "    # Flip horizontally with 50% probability\n",
        "    if random.random() > 0.5:\n",
        "        img = cv2.flip(img, 1)\n",
        "\n",
        "    # Random rotation (-15 to 15 degrees)\n",
        "    angle = random.randint(-15, 15)\n",
        "    h, w = img.shape[:2]\n",
        "    M = cv2.getRotationMatrix2D((w // 2, h // 2), angle, 1)\n",
        "    img = cv2.warpAffine(img, M, (w, h))\n",
        "\n",
        "    # Random brightness adjustment\n",
        "    factor = 0.5 + random.uniform(0, 1)  # Between 0.5 (darker) and 1.5 (brighter)\n",
        "    img = np.clip(img * factor, 0, 255).astype(np.uint8)\n",
        "\n",
        "    # Random Gaussian noise\n",
        "    if random.random() > 0.7:  # Apply noise with 30% probability\n",
        "        noise = np.random.normal(0, 15, img.shape).astype(np.uint8)\n",
        "        img = cv2.add(img, noise)\n",
        "\n",
        "    return img\n"
      ],
      "metadata": {
        "id": "gQ6GTyla4Xou"
      },
      "execution_count": null,
      "outputs": []
    },
    {
      "cell_type": "code",
      "source": [
        "data=[]\n",
        "for category in categories:\n",
        "\n",
        "  path = os.path.join('train',category)\n",
        "  label = categories.index(category)\n",
        "\n",
        "  for file in os.listdir(path):\n",
        "    img_path = os.path.join(path,file)\n",
        "    img = cv2.imread(img_path)\n",
        "    if img is None:\n",
        "        print(f\"Warning: Unable to read {img_path}\")\n",
        "        continue  # Skip this file\n",
        "    gray = cv2.cvtColor(img, cv2.COLOR_BGR2GRAY)\n",
        "\n",
        "    # Detect face\n",
        "    faces = detect_face(gray)\n",
        "\n",
        "    # Crop the first detected face\n",
        "    if len(faces) > 0:\n",
        "        x, y, w, h = faces[0]  # Get coordinates of the first detected face\n",
        "        img = img[y:y+h, x:x+w]  # Crop the face from the image\n",
        "    else:\n",
        "        print(f\"Warning: Unable to read {img_path}\")\n",
        "        continue  # Skip this file\n",
        "\n",
        "    img = cv2.resize(img,(224,224))\n",
        "    # # Apply data augmentation\n",
        "    # aug_img = augment_image(img)\n",
        "    data.append([img,label])\n",
        "    # data.append([aug_img, label])"
      ],
      "metadata": {
        "id": "t1GpDFOJ4aXp"
      },
      "execution_count": null,
      "outputs": []
    },
    {
      "cell_type": "code",
      "source": [
        "len(data)"
      ],
      "metadata": {
        "id": "rEF8Me6c4ctm"
      },
      "execution_count": null,
      "outputs": []
    },
    {
      "cell_type": "code",
      "source": [
        "import random\n",
        "random.shuffle(data)"
      ],
      "metadata": {
        "id": "CSQqkPFR4d5c"
      },
      "execution_count": null,
      "outputs": []
    },
    {
      "cell_type": "code",
      "source": [
        "X = []\n",
        "y = []\n",
        "for features,label in data:\n",
        "  X.append(features)\n",
        "  y.append(label)\n",
        "\n",
        "len(X)\n",
        "len(y)"
      ],
      "metadata": {
        "id": "wWewQiEy4fgq"
      },
      "execution_count": null,
      "outputs": []
    },
    {
      "cell_type": "code",
      "source": [
        "import numpy as np"
      ],
      "metadata": {
        "id": "xEr0KSaG4ggH"
      },
      "execution_count": null,
      "outputs": []
    },
    {
      "cell_type": "code",
      "source": [
        "X = np.array(X)\n",
        "y = np.array(y)\n",
        "print(X.shape)\n",
        "print(y.shape)\n",
        "X=X/255"
      ],
      "metadata": {
        "id": "FRJ4_3rB4h1l"
      },
      "execution_count": null,
      "outputs": []
    },
    {
      "cell_type": "code",
      "source": [
        "from sklearn.model_selection import train_test_split\n",
        "X_train,X_test,y_train,y_test = train_test_split(X,y,test_size=0.2)"
      ],
      "metadata": {
        "id": "b_VNcrWk4kuZ"
      },
      "execution_count": null,
      "outputs": []
    },
    {
      "cell_type": "code",
      "source": [
        "from keras.applications.vgg16 import VGG16"
      ],
      "metadata": {
        "id": "lmV8HXEE4meM"
      },
      "execution_count": null,
      "outputs": []
    },
    {
      "cell_type": "code",
      "source": [
        "vgg = VGG16()\n",
        "vgg.summary()"
      ],
      "metadata": {
        "id": "1ZSqMSaJ4n1Y"
      },
      "execution_count": null,
      "outputs": []
    },
    {
      "cell_type": "code",
      "source": [
        "from keras import Sequential\n",
        "model = Sequential()"
      ],
      "metadata": {
        "id": "1YllTpYR4pTP"
      },
      "execution_count": null,
      "outputs": []
    },
    {
      "cell_type": "code",
      "source": [
        "for layer in vgg.layers[:-1]:\n",
        "  model.add(layer)\n",
        "\n",
        "for layer in model.layers:\n",
        "  layer.trainable = False\n",
        "\n",
        "model.summary()"
      ],
      "metadata": {
        "id": "wvMtjdiy4rHo"
      },
      "execution_count": null,
      "outputs": []
    },
    {
      "cell_type": "code",
      "source": [
        "from keras.layers import Dense\n",
        "model.add(Dense(1,activation='sigmoid'))\n",
        "model.summary()"
      ],
      "metadata": {
        "id": "kBsL1GM74s8d"
      },
      "execution_count": null,
      "outputs": []
    },
    {
      "cell_type": "code",
      "source": [
        "model.compile(optimizer='Adam', loss='binary_crossentropy',metrics=['accuracy'])"
      ],
      "metadata": {
        "id": "tjEbCJj04uXR"
      },
      "execution_count": null,
      "outputs": []
    },
    {
      "cell_type": "code",
      "source": [
        "# Suppose this is your training history\n",
        "history = model.fit(X_train, y_train, epochs=7, validation_data=(X_test, y_test))\n",
        "\n",
        "# Plotting\n",
        "plt.figure(figsize=(12, 5))\n",
        "\n",
        "# Plot Loss\n",
        "plt.subplot(1, 2, 1)\n",
        "plt.plot(history.history['loss'], label='Training Loss', marker='o')\n",
        "plt.plot(history.history['val_loss'], label='Validation Loss', marker='o')\n",
        "plt.title('Loss over Epochs')\n",
        "plt.xlabel('Epoch')\n",
        "plt.ylabel('Loss')\n",
        "plt.legend()\n",
        "plt.grid(True)\n",
        "\n",
        "# Plot Accuracy\n",
        "plt.subplot(1, 2, 2)\n",
        "plt.plot(history.history['accuracy'], label='Training Accuracy', marker='o')\n",
        "plt.plot(history.history['val_accuracy'], label='Validation Accuracy', marker='o')\n",
        "plt.title('Accuracy over Epochs')\n",
        "plt.xlabel('Epoch')\n",
        "plt.ylabel('Accuracy')\n",
        "plt.legend()\n",
        "plt.grid(True)\n",
        "\n",
        "plt.tight_layout()\n",
        "plt.show()"
      ],
      "metadata": {
        "id": "sEejxay-4wA9"
      },
      "execution_count": null,
      "outputs": []
    },
    {
      "cell_type": "code",
      "source": [
        "# model save\n",
        "import joblib\n",
        "filename = 'model2.sav'\n",
        "joblib.dump(model, filename)"
      ],
      "metadata": {
        "id": "UV-FJIYu4y8s"
      },
      "execution_count": null,
      "outputs": []
    },
    {
      "cell_type": "code",
      "source": [
        "# model load\n",
        "import joblib\n",
        "\n",
        "filename = 'model2.sav'\n",
        "mymodel = joblib.load(filename)"
      ],
      "metadata": {
        "id": "QZYzO0u240jr"
      },
      "execution_count": null,
      "outputs": []
    },
    {
      "cell_type": "code",
      "source": [
        "def detect_face_mask(img):\n",
        "    y_pred = mymodel.predict(img.reshape(1, 224, 224, 3))\n",
        "    return 1 if y_pred[0][0] > 0.5 else 0  # Binary classification threshold"
      ],
      "metadata": {
        "id": "2w60abkE42NE"
      },
      "execution_count": null,
      "outputs": []
    },
    {
      "cell_type": "code",
      "source": [
        "def draw_label(img,text,pos,bg_color):\n",
        "\n",
        "  text_size = cv2.getTextSize(text,cv2.FONT_HERSHEY_SIMPLEX,1,cv2.FILLED)\n",
        "\n",
        "  end_x = pos[0] + text_size[0][0] + 2\n",
        "  end_y = pos[1] + text_size[0][1] - 2\n",
        "\n",
        "  cv2.rectangle(img,pos, (end_x,end_y),bg_color,cv2.FILLED)\n",
        "  cv2.putText(img,text, pos,cv2.FONT_HERSHEY_SIMPLEX,1,(0,0,0),1,cv2.LINE_AA)"
      ],
      "metadata": {
        "id": "fZI0yH9943wB"
      },
      "execution_count": null,
      "outputs": []
    },
    {
      "cell_type": "code",
      "source": [
        "cap = cv2.VideoCapture(0)"
      ],
      "metadata": {
        "id": "liwouGKO44-N"
      },
      "execution_count": null,
      "outputs": []
    },
    {
      "cell_type": "code",
      "source": [
        "import cv2\n",
        "\n",
        "cap = cv2.VideoCapture(0)\n",
        "\n",
        "while True:\n",
        "    ret, frame = cap.read()\n",
        "\n",
        "    if not ret or frame is None:\n",
        "        print(\"Failed to capture frame. Retrying...\")\n",
        "        continue  # Skip the iteration if frame is empty\n",
        "\n",
        "    img = frame\n",
        "    gray = cv2.cvtColor(img, cv2.COLOR_BGR2GRAY)\n",
        "\n",
        "    # Detect face\n",
        "    faces = detect_face(gray)\n",
        "\n",
        "    # Crop the first detected face\n",
        "    if len(faces) > 0:\n",
        "        x, y, w, h = faces[0]  # Get coordinates of the first detected face\n",
        "        img = img[y:y+h, x:x+w]  # Crop the face from the image\n",
        "\n",
        "    img = cv2.resize(img, (224, 224))\n",
        "\n",
        "    y_pred = detect_face_mask(img)\n",
        "    coods = faces\n",
        "\n",
        "    for x, y, w, h in coods:\n",
        "        cv2.rectangle(frame, (x, y), (x+w, y+h), (255, 0, 0), 3)\n",
        "\n",
        "    if y_pred == 0:\n",
        "        draw_label(frame, \"Mask\", (30, 30), (0, 255, 0))\n",
        "    else:\n",
        "        draw_label(frame, \"No Mask\", (30, 30), (0, 0, 255))\n",
        "\n",
        "    cv2.imshow(\"window\", frame)\n",
        "\n",
        "    # Check for 'q' key press to safely exit\n",
        "    if cv2.waitKey(1) & 0xFF == ord('q'):\n",
        "        break\n",
        "\n",
        "# Release resources properly after the loop\n",
        "cap.release()\n",
        "cv2.destroyAllWindows()"
      ],
      "metadata": {
        "id": "k1zWSb_y4-nP"
      },
      "execution_count": null,
      "outputs": []
    }
  ]
}